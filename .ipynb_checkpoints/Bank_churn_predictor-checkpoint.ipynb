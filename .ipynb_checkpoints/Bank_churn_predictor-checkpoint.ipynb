{
 "cells": [
  {
   "cell_type": "code",
   "execution_count": 1,
   "id": "70cc2118-ff43-4c81-97e3-a1f8879dadf2",
   "metadata": {},
   "outputs": [],
   "source": [
    "import numpy as np\n",
    "import pandas as pd"
   ]
  },
  {
   "cell_type": "markdown",
   "id": "92a10334-cae5-4b0f-8db4-7931230ff1a2",
   "metadata": {},
   "source": [
    "# Project Overview\n",
    "\n",
    "## Goal:\n",
    "    - The goal of this project is to develop a simple model which can use simple customer features to accurately predict client churn. \n",
    "\n",
    "## Business Utility: \n",
    "    - Identifying clients at high risk of churn gives us actionable intelligence in two phases.\n",
    "    \n",
    "        - Potential Customer Identification: By being able to quantify which charateristics make a customer likely to stay or go we can more\n",
    "        tailor our marketing efforts to attract customers who are more likely to remain customers.\n",
    "        \n",
    "        - Utilize targeted marketing and retainment efforts at current customers who are higher risk of churn.\n",
    "\n",
    "## Methodology: \n",
    "\n",
    "    - We will be using a logistic regression model which classifies customers as secure (1), or likely to churn(0).\n",
    "    - There a few advantages of this model and approach:\n",
    "        - It is a simple model whcih can easily be tweaked or updated for future use.\n",
    "        - It is cheap to both build and maintain. \n",
    "        - It is intuitive, we input non complicated data about clients (age, gender, credit score etc.) and are able to make predictions with accuracy. "
   ]
  },
  {
   "cell_type": "code",
   "execution_count": null,
   "id": "d488f767-613d-41c1-9d0d-004fff61cf77",
   "metadata": {},
   "outputs": [],
   "source": [
    "df = pd.read_csv('/Users/elias_m/Desktop/Projects - pay me/Bank Churn/Bank Customer Churn Prediction.csv'"
   ]
  }
 ],
 "metadata": {
  "kernelspec": {
   "display_name": "Python 3 (ipykernel)",
   "language": "python",
   "name": "python3"
  },
  "language_info": {
   "codemirror_mode": {
    "name": "ipython",
    "version": 3
   },
   "file_extension": ".py",
   "mimetype": "text/x-python",
   "name": "python",
   "nbconvert_exporter": "python",
   "pygments_lexer": "ipython3",
   "version": "3.11.7"
  }
 },
 "nbformat": 4,
 "nbformat_minor": 5
}
